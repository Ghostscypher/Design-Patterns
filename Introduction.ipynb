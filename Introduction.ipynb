{
 "metadata": {
  "language_info": {
   "codemirror_mode": {
    "name": "ipython",
    "version": 3
   },
   "file_extension": ".py",
   "mimetype": "text/x-python",
   "name": "python",
   "nbconvert_exporter": "python",
   "pygments_lexer": "ipython3",
   "version": "3.9.0"
  },
  "orig_nbformat": 4,
  "kernelspec": {
   "name": "python3",
   "display_name": "Python 3.9.0 64-bit"
  },
  "interpreter": {
   "hash": "974399508c4debb9c3679866db56e0086a09085ce9363c5f4586ed54d8975598"
  }
 },
 "nbformat": 4,
 "nbformat_minor": 2,
 "cells": [
  {
   "source": [
    "# Design patterns\n",
    "\n",
    "The notes are a summary taken from the website https://refactoring.guru/design-patterns\n",
    "\n",
    "They are typical solutions to commonly occuring problems in software Design\n",
    "It defers from algorithms in that while algorithms define a clear set of actions that can achieve\n",
    "some goal, a pattern is more of a high level description of the problem.\n",
    "\n",
    "Patterns in these notes will be arranged in the following fashion:\n",
    "* Intent - describes both the problem and the solution.\n",
    "*  Motivation - further explains the problem and the solution the pattern makes possible.\n",
    "* Structure - of the classes shows each part of the pattern and how they are related.\n",
    "* Code example - An example of the code in python preferably\n",
    "\n",
    "## Why learn them\n",
    "\n",
    "* They provide a toolkit og tried and tested solutions to common software design\n",
    "* The provide a common language one can use to communicate more effectively during software development.\n",
    "\n",
    "## Criticism\n",
    "\n",
    "* Kludges for a weak programming language \n",
    "\n",
    "Usually the need for patterns arises when people choose a programming language or a technology that lacks the necessary level of abstraction. In this case, patterns become a kludge that gives the language much-needed super-abilities.\n",
    "\n",
    "For example, the Strategy pattern can be implemented with a simple anonymous (lambda) function in most modern programming languages.\n",
    "\n",
    "* Inefficient solutions\n",
    "\n",
    "Patterns try to systematize approaches that are already widely used. This unification is viewed by many as a dogma and they implement patterns “to the point”, without adapting them to the context of their project.\n",
    "\n",
    "* Unjustified use\n",
    "\n",
    "If all you have is a hammer, everything looks like a nail.\n",
    "\n",
    "This is the problem that haunts many novices who have just familiarized themselves with patterns. Having learned about patterns, they try to apply them everywhere, even in situations where simpler code would do just fine.\n",
    "\n",
    "## Classification of patterns\n",
    "\n",
    "Design patterns differ in terms of their complexity, levl of detail, and scale of applicability to the entire system being designed.\n",
    "The most basic low level patterns are usually called idioms, and usually apply for a single processing language.\n",
    "The most universal high-level design patterns are usually called architectural patterns. These patterns can be implemented in virtually any language.Unlike other patterns, they can be used to design the architecture of an entire application.\n",
    "\n",
    "In addition, all patterns can be categorized by their intent, or purpose. This book covers three main groups of patterns:\n",
    "\n",
    "* Creational patterns provide object creation mechanisms that increase flexibility and reuse of existing code.\n",
    "\n",
    "* Structural patterns explain how to assemble objects and classes into larger structures, while keeping the structures flexible and efficient.\n",
    "\n",
    "* Behavioral patterns take care of effective communication and the assignment of responsibilities between objects.\n"
   ],
   "cell_type": "markdown",
   "metadata": {}
  }
 ]
}